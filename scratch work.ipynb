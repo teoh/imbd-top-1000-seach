{
 "cells": [
  {
   "cell_type": "markdown",
   "metadata": {},
   "source": [
    "# Index building, ideas and setup, actual code in the .py files"
   ]
  },
  {
   "cell_type": "markdown",
   "metadata": {},
   "source": [
    "# Imports and setup"
   ]
  },
  {
   "cell_type": "code",
   "execution_count": 1,
   "metadata": {
    "ExecuteTime": {
     "end_time": "2018-09-09T02:37:56.057321Z",
     "start_time": "2018-09-09T02:37:55.392821Z"
    }
   },
   "outputs": [],
   "source": [
    "import pandas as pd\n",
    "import numpy as np\n",
    "from tqdm import tqdm\n",
    "from functools import reduce\n",
    "import itertools\n",
    "\n",
    "from bs4 import BeautifulSoup\n",
    "from requests import get\n",
    "import re"
   ]
  },
  {
   "cell_type": "markdown",
   "metadata": {},
   "source": [
    "# Getting the 1000 movie dataset"
   ]
  },
  {
   "cell_type": "markdown",
   "metadata": {},
   "source": [
    "1000 movies and 50 movies per page = 20 pages total"
   ]
  },
  {
   "cell_type": "code",
   "execution_count": 2,
   "metadata": {
    "ExecuteTime": {
     "end_time": "2018-09-09T02:37:56.066783Z",
     "start_time": "2018-09-09T02:37:56.060871Z"
    }
   },
   "outputs": [],
   "source": [
    "NUM_PAGES = 20"
   ]
  },
  {
   "cell_type": "markdown",
   "metadata": {},
   "source": [
    "Attributes of the movie to get: \n",
    "* Movie title\n",
    "* Genre\n",
    "* Director name + stars"
   ]
  },
  {
   "cell_type": "code",
   "execution_count": 3,
   "metadata": {
    "ExecuteTime": {
     "end_time": "2018-09-09T02:37:56.077264Z",
     "start_time": "2018-09-09T02:37:56.070299Z"
    }
   },
   "outputs": [],
   "source": [
    "base_url = 'https://www.imdb.com/search/title?groups=top_1000&sort=user_rating&page={0}'"
   ]
  },
  {
   "cell_type": "code",
   "execution_count": 4,
   "metadata": {
    "ExecuteTime": {
     "end_time": "2018-09-09T02:38:20.579027Z",
     "start_time": "2018-09-09T02:37:56.082685Z"
    }
   },
   "outputs": [
    {
     "name": "stderr",
     "output_type": "stream",
     "text": [
      "100%|██████████| 20/20 [00:24<00:00,  1.22s/it]\n"
     ]
    }
   ],
   "source": [
    "all_movie_info = []\n",
    "for i in tqdm(range(1,NUM_PAGES+1)):\n",
    "    # get url\n",
    "    url = base_url.format(i)\n",
    "    \n",
    "    response = get(url)\n",
    "\n",
    "    html_soup = BeautifulSoup(response.text,'html.parser')    \n",
    "    movie_containers = html_soup.find_all('div', class_ = 'lister-item mode-advanced')\n",
    "    \n",
    "    # process all the movies for this page\n",
    "    for j,movie in enumerate(movie_containers):\n",
    "        movie_res = {}\n",
    "        \n",
    "        # title\n",
    "        movie_title = movie.h3.a.text\n",
    "        movie_res['title_pretty'] = movie_title\n",
    "        movie_res['title_lower'] = movie_title.lower()\n",
    "\n",
    "        # genres\n",
    "        raw_genre_list = movie.find('p', class_ = 'text-muted').\\\n",
    "            find('span', class_ = 'genre').text[1:].split(',')\n",
    "        movie_res['genres'] = list(map(lambda x: x.lower().lstrip().rstrip(),raw_genre_list))\n",
    "\n",
    "\n",
    "        director_stars_info = movie.findAll('p', class_='')[-1]\n",
    "        if 'Director' not in director_stars_info.text or 'Stars' not in director_stars_info.text:\n",
    "            print(f'''i, j, movie = {(i,j,movie_title)}. Could not find Directors or Stars''')\n",
    "\n",
    "        # Get people info, no need to distinguish director from stars\n",
    "        people = list(map(lambda x: x.text.lower(), director_stars_info.findAll('a')))\n",
    "\n",
    "        movie_res['people'] = people\n",
    "        \n",
    "        all_movie_info.append(movie_res)"
   ]
  },
  {
   "cell_type": "code",
   "execution_count": 5,
   "metadata": {
    "ExecuteTime": {
     "end_time": "2018-09-09T02:38:20.588446Z",
     "start_time": "2018-09-09T02:38:20.581985Z"
    }
   },
   "outputs": [],
   "source": [
    "df_movies_raw = pd.DataFrame.from_dict(all_movie_info)"
   ]
  },
  {
   "cell_type": "code",
   "execution_count": 6,
   "metadata": {
    "ExecuteTime": {
     "end_time": "2018-09-09T02:38:20.609321Z",
     "start_time": "2018-09-09T02:38:20.591639Z"
    }
   },
   "outputs": [
    {
     "data": {
      "text/plain": [
       "genres          1000\n",
       "people          1000\n",
       "title_lower     1000\n",
       "title_pretty    1000\n",
       "dtype: int64"
      ]
     },
     "execution_count": 6,
     "metadata": {},
     "output_type": "execute_result"
    }
   ],
   "source": [
    "df_movies_raw.notnull().sum()"
   ]
  },
  {
   "cell_type": "code",
   "execution_count": 7,
   "metadata": {
    "ExecuteTime": {
     "end_time": "2018-09-09T02:38:20.629698Z",
     "start_time": "2018-09-09T02:38:20.612758Z"
    }
   },
   "outputs": [
    {
     "data": {
      "text/html": [
       "<div>\n",
       "<style scoped>\n",
       "    .dataframe tbody tr th:only-of-type {\n",
       "        vertical-align: middle;\n",
       "    }\n",
       "\n",
       "    .dataframe tbody tr th {\n",
       "        vertical-align: top;\n",
       "    }\n",
       "\n",
       "    .dataframe thead th {\n",
       "        text-align: right;\n",
       "    }\n",
       "</style>\n",
       "<table border=\"1\" class=\"dataframe\">\n",
       "  <thead>\n",
       "    <tr style=\"text-align: right;\">\n",
       "      <th></th>\n",
       "      <th>genres</th>\n",
       "      <th>people</th>\n",
       "      <th>title_lower</th>\n",
       "      <th>title_pretty</th>\n",
       "    </tr>\n",
       "  </thead>\n",
       "  <tbody>\n",
       "    <tr>\n",
       "      <th>0</th>\n",
       "      <td>[drama]</td>\n",
       "      <td>[frank darabont, tim robbins, morgan freeman, ...</td>\n",
       "      <td>the shawshank redemption</td>\n",
       "      <td>The Shawshank Redemption</td>\n",
       "    </tr>\n",
       "    <tr>\n",
       "      <th>1</th>\n",
       "      <td>[crime, drama]</td>\n",
       "      <td>[francis ford coppola, marlon brando, al pacin...</td>\n",
       "      <td>the godfather</td>\n",
       "      <td>The Godfather</td>\n",
       "    </tr>\n",
       "    <tr>\n",
       "      <th>2</th>\n",
       "      <td>[action, crime, drama]</td>\n",
       "      <td>[christopher nolan, christian bale, heath ledg...</td>\n",
       "      <td>the dark knight</td>\n",
       "      <td>The Dark Knight</td>\n",
       "    </tr>\n",
       "    <tr>\n",
       "      <th>3</th>\n",
       "      <td>[crime, drama]</td>\n",
       "      <td>[francis ford coppola, al pacino, robert de ni...</td>\n",
       "      <td>the godfather: part ii</td>\n",
       "      <td>The Godfather: Part II</td>\n",
       "    </tr>\n",
       "    <tr>\n",
       "      <th>4</th>\n",
       "      <td>[crime, drama]</td>\n",
       "      <td>[quentin tarantino, john travolta, uma thurman...</td>\n",
       "      <td>pulp fiction</td>\n",
       "      <td>Pulp Fiction</td>\n",
       "    </tr>\n",
       "  </tbody>\n",
       "</table>\n",
       "</div>"
      ],
      "text/plain": [
       "                   genres                                             people  \\\n",
       "0                 [drama]  [frank darabont, tim robbins, morgan freeman, ...   \n",
       "1          [crime, drama]  [francis ford coppola, marlon brando, al pacin...   \n",
       "2  [action, crime, drama]  [christopher nolan, christian bale, heath ledg...   \n",
       "3          [crime, drama]  [francis ford coppola, al pacino, robert de ni...   \n",
       "4          [crime, drama]  [quentin tarantino, john travolta, uma thurman...   \n",
       "\n",
       "                title_lower              title_pretty  \n",
       "0  the shawshank redemption  The Shawshank Redemption  \n",
       "1             the godfather             The Godfather  \n",
       "2           the dark knight           The Dark Knight  \n",
       "3    the godfather: part ii    The Godfather: Part II  \n",
       "4              pulp fiction              Pulp Fiction  "
      ]
     },
     "execution_count": 7,
     "metadata": {},
     "output_type": "execute_result"
    }
   ],
   "source": [
    "df_movies_raw.head()"
   ]
  },
  {
   "cell_type": "markdown",
   "metadata": {},
   "source": [
    "# Build index"
   ]
  },
  {
   "cell_type": "markdown",
   "metadata": {},
   "source": [
    "How many unique words are there?"
   ]
  },
  {
   "cell_type": "code",
   "execution_count": 8,
   "metadata": {
    "ExecuteTime": {
     "end_time": "2018-09-09T02:38:20.657933Z",
     "start_time": "2018-09-09T02:38:20.632770Z"
    }
   },
   "outputs": [
    {
     "name": "stdout",
     "output_type": "stream",
     "text": [
      "21\n",
      "4316\n",
      "5680\n"
     ]
    }
   ],
   "source": [
    "unique_words = set()\n",
    "\n",
    "for g_list in df_movies_raw.genres:\n",
    "    for g in g_list:\n",
    "        unique_words.add(g)\n",
    "\n",
    "print(len(unique_words))\n",
    "            \n",
    "for p_list in df_movies_raw.people:\n",
    "    for name in p_list:\n",
    "        for name_part in name.split(' '):\n",
    "            unique_words.add(name_part)\n",
    "\n",
    "print(len(unique_words))\n",
    "                \n",
    "for title in df_movies_raw.title_lower:\n",
    "    for word in title.split(' '):\n",
    "        word = re.sub(r'[^\\w\\s]','',word)\n",
    "        if word:\n",
    "            unique_words.add(word)\n",
    "        \n",
    "print(len(unique_words))"
   ]
  },
  {
   "cell_type": "markdown",
   "metadata": {},
   "source": [
    "5k keywords should be ok for an index that I'm planning. Plan for index:\n",
    "* keywords are parsed from genre, people, and titles\n",
    "* for each keyword, get list of indices (from results above) of titles with info containing this keyword"
   ]
  },
  {
   "cell_type": "code",
   "execution_count": 9,
   "metadata": {
    "ExecuteTime": {
     "end_time": "2018-09-09T02:38:20.665030Z",
     "start_time": "2018-09-09T02:38:20.660637Z"
    }
   },
   "outputs": [],
   "source": [
    "keyword_map = {}\n",
    "def add_to_dict(k_map,itm,i):\n",
    "    if itm not in keyword_map.keys():\n",
    "        k_map[itm] = {i}\n",
    "    else:\n",
    "        k_map[itm].add(i)"
   ]
  },
  {
   "cell_type": "code",
   "execution_count": 10,
   "metadata": {
    "ExecuteTime": {
     "end_time": "2018-09-09T02:38:20.798593Z",
     "start_time": "2018-09-09T02:38:20.667979Z"
    }
   },
   "outputs": [
    {
     "name": "stderr",
     "output_type": "stream",
     "text": [
      "1000it [00:00, 8164.99it/s]\n"
     ]
    }
   ],
   "source": [
    "for i,row in tqdm(df_movies_raw.iterrows()):\n",
    "    for g in row['genres']:\n",
    "        add_to_dict(keyword_map,g,i)\n",
    "    \n",
    "    for name in row['people']:\n",
    "        for name_part in name.split(' '):\n",
    "            add_to_dict(keyword_map,name_part,i)\n",
    "    \n",
    "    for word in row['title_lower'].split(' '):\n",
    "        word = re.sub(r'[^\\w\\s]','',word)\n",
    "        if word:\n",
    "            add_to_dict(keyword_map,word,i)"
   ]
  },
  {
   "cell_type": "code",
   "execution_count": 11,
   "metadata": {
    "ExecuteTime": {
     "end_time": "2018-09-09T02:38:20.805395Z",
     "start_time": "2018-09-09T02:38:20.801048Z"
    }
   },
   "outputs": [],
   "source": [
    "titles = df_movies_raw.title_pretty.values"
   ]
  },
  {
   "cell_type": "code",
   "execution_count": 12,
   "metadata": {
    "ExecuteTime": {
     "end_time": "2018-09-09T02:38:20.814982Z",
     "start_time": "2018-09-09T02:38:20.809116Z"
    }
   },
   "outputs": [
    {
     "data": {
      "text/plain": [
       "array(['The Dark Knight', 'The Prestige', 'Dunkirk', 'Inception',\n",
       "       'Memento', 'Following', 'Batman Begins', 'Interstellar',\n",
       "       'The Dark Knight Rises'], dtype=object)"
      ]
     },
     "execution_count": 12,
     "metadata": {},
     "output_type": "execute_result"
    }
   ],
   "source": [
    "titles[list(keyword_map['nolan'])]"
   ]
  },
  {
   "cell_type": "code",
   "execution_count": 13,
   "metadata": {
    "ExecuteTime": {
     "end_time": "2018-09-09T02:38:20.823039Z",
     "start_time": "2018-09-09T02:38:20.817316Z"
    }
   },
   "outputs": [],
   "source": [
    "def get_movies(search_str):\n",
    "    list_of_terms = search_str.lower().split(' ')\n",
    "    movies_to_intersect = []\n",
    "    for term in list_of_terms:\n",
    "        candidate_set = keyword_map.get(term,None)\n",
    "        if candidate_set:\n",
    "            movies_to_intersect.append(candidate_set)\n",
    "\n",
    "    final_indices = reduce(lambda x,y: x & y, movies_to_intersect)\n",
    "\n",
    "    return titles[list(final_indices)]"
   ]
  },
  {
   "cell_type": "code",
   "execution_count": 14,
   "metadata": {
    "ExecuteTime": {
     "end_time": "2018-09-09T02:38:20.833678Z",
     "start_time": "2018-09-09T02:38:20.826242Z"
    }
   },
   "outputs": [
    {
     "data": {
      "text/plain": [
       "array(['Bridge of Spies', 'Saving Private Ryan', 'Catch Me If You Can'],\n",
       "      dtype=object)"
      ]
     },
     "execution_count": 14,
     "metadata": {},
     "output_type": "execute_result"
    }
   ],
   "source": [
    "search_str = 'spielberg hanks '\n",
    "get_movies(search_str)"
   ]
  },
  {
   "cell_type": "code",
   "execution_count": null,
   "metadata": {},
   "outputs": [],
   "source": []
  }
 ],
 "metadata": {
  "kernelspec": {
   "display_name": "Python 3",
   "language": "python",
   "name": "python3"
  },
  "language_info": {
   "codemirror_mode": {
    "name": "ipython",
    "version": 3
   },
   "file_extension": ".py",
   "mimetype": "text/x-python",
   "name": "python",
   "nbconvert_exporter": "python",
   "pygments_lexer": "ipython3",
   "version": "3.7.0"
  },
  "toc": {
   "base_numbering": 1,
   "nav_menu": {},
   "number_sections": true,
   "sideBar": true,
   "skip_h1_title": false,
   "title_cell": "Table of Contents",
   "title_sidebar": "Contents",
   "toc_cell": false,
   "toc_position": {},
   "toc_section_display": true,
   "toc_window_display": false
  },
  "varInspector": {
   "cols": {
    "lenName": 16,
    "lenType": 16,
    "lenVar": 40
   },
   "kernels_config": {
    "python": {
     "delete_cmd_postfix": "",
     "delete_cmd_prefix": "del ",
     "library": "var_list.py",
     "varRefreshCmd": "print(var_dic_list())"
    },
    "r": {
     "delete_cmd_postfix": ") ",
     "delete_cmd_prefix": "rm(",
     "library": "var_list.r",
     "varRefreshCmd": "cat(var_dic_list()) "
    }
   },
   "types_to_exclude": [
    "module",
    "function",
    "builtin_function_or_method",
    "instance",
    "_Feature"
   ],
   "window_display": false
  }
 },
 "nbformat": 4,
 "nbformat_minor": 2
}
